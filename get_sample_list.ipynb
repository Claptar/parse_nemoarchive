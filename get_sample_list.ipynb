{
 "cells": [
  {
   "cell_type": "code",
   "execution_count": 1,
   "metadata": {},
   "outputs": [],
   "source": [
    "import bs4\n",
    "from bs4 import BeautifulSoup\n",
    "import requests\n",
    "import re"
   ]
  },
  {
   "cell_type": "markdown",
   "metadata": {},
   "source": [
    "Check the version of `BeautifulSoup` package"
   ]
  },
  {
   "cell_type": "code",
   "execution_count": 2,
   "metadata": {},
   "outputs": [
    {
     "data": {
      "text/plain": [
       "'4.12.3'"
      ]
     },
     "execution_count": 2,
     "metadata": {},
     "output_type": "execute_result"
    }
   ],
   "source": [
    "bs4.__version__"
   ]
  },
  {
   "cell_type": "markdown",
   "metadata": {},
   "source": [
    "Get the main page of the dataset of interest"
   ]
  },
  {
   "cell_type": "code",
   "execution_count": 3,
   "metadata": {},
   "outputs": [],
   "source": [
    "source = 'https://data.nemoarchive.org/biccn/grant/u01_lein/linnarsson/transcriptome/sncell/10x_v3/human/raw/'\n",
    "r = requests.get(source)"
   ]
  },
  {
   "cell_type": "markdown",
   "metadata": {},
   "source": [
    "Parse a main page with `BeautifulSoup` to get all sample names"
   ]
  },
  {
   "cell_type": "code",
   "execution_count": 4,
   "metadata": {},
   "outputs": [],
   "source": [
    "doc = BeautifulSoup(r.text, 'html.parser')"
   ]
  },
  {
   "cell_type": "markdown",
   "metadata": {},
   "source": [
    "Get sample names of interest from file"
   ]
  },
  {
   "cell_type": "code",
   "execution_count": 5,
   "metadata": {},
   "outputs": [
    {
     "data": {
      "text/plain": [
       "['10X145-3', '10X145-4', '10X145-5', '10X145-6', '10X146-2']"
      ]
     },
     "execution_count": 5,
     "metadata": {},
     "output_type": "execute_result"
    }
   ],
   "source": [
    "with open('run_list.txt', 'r') as f:\n",
    "    samples = [line.rstrip() for line in f.readlines()]\n",
    "samples[:5]"
   ]
  },
  {
   "cell_type": "markdown",
   "metadata": {},
   "source": [
    "Parse `.fastq` links for each sample"
   ]
  },
  {
   "cell_type": "code",
   "execution_count": 6,
   "metadata": {},
   "outputs": [],
   "source": [
    "sample_list = []\n",
    "\n",
    "for sample in samples:\n",
    "    tag = doc.find(string=re.compile(f\"({sample}).*\"))\n",
    "    if 'fastq' not in tag:\n",
    "        sample_r = requests.get(source + tag)\n",
    "        sample_doc = BeautifulSoup(sample_r.text, 'html.parser')\n",
    "        dirs = [tag.a.text for tag in sample_doc.find_all('tr') if tag.img and tag.img['alt'] == '[DIR]']\n",
    "        for dir in dirs:\n",
    "            run_r = requests.get(source + tag + dir)\n",
    "            run_doc = BeautifulSoup(run_r.text, 'html.parser')\n",
    "            runs = run_doc.find_all(string=re.compile(f\"({sample}).*fastq.tar\"))\n",
    "            for run in runs:\n",
    "                sample_dict = {\n",
    "                    'sample': sample,\n",
    "                    'filename': run.replace('-', '_'),\n",
    "                    'link': source + tag.text + dir + run.text\n",
    "                }\n",
    "                sample_list.append(sample_dict)\n",
    "    else:\n",
    "        sample_dict = {\n",
    "                    'sample': sample,\n",
    "                    'filename': tag.text.replace('-', '_'),\n",
    "                    'link': source + tag.text\n",
    "                }\n",
    "        sample_list.append(sample_dict)\n",
    "        "
   ]
  },
  {
   "cell_type": "markdown",
   "metadata": {},
   "source": [
    "Save results to file"
   ]
  },
  {
   "cell_type": "code",
   "execution_count": 7,
   "metadata": {},
   "outputs": [
    {
     "data": {
      "text/html": [
       "<div>\n",
       "<style scoped>\n",
       "    .dataframe tbody tr th:only-of-type {\n",
       "        vertical-align: middle;\n",
       "    }\n",
       "\n",
       "    .dataframe tbody tr th {\n",
       "        vertical-align: top;\n",
       "    }\n",
       "\n",
       "    .dataframe thead th {\n",
       "        text-align: right;\n",
       "    }\n",
       "</style>\n",
       "<table border=\"1\" class=\"dataframe\">\n",
       "  <thead>\n",
       "    <tr style=\"text-align: right;\">\n",
       "      <th></th>\n",
       "      <th>sample</th>\n",
       "      <th>filename</th>\n",
       "      <th>link</th>\n",
       "      <th>is_duplicate</th>\n",
       "      <th>duplicate_number</th>\n",
       "    </tr>\n",
       "  </thead>\n",
       "  <tbody>\n",
       "    <tr>\n",
       "      <th>111</th>\n",
       "      <td>10X215-6-1</td>\n",
       "      <td>10X215_6_S6_L001.fastq.tar</td>\n",
       "      <td>https://data.nemoarchive.org/biccn/grant/u01_l...</td>\n",
       "      <td>True</td>\n",
       "      <td>1</td>\n",
       "    </tr>\n",
       "    <tr>\n",
       "      <th>112</th>\n",
       "      <td>10X215-6-1</td>\n",
       "      <td>10X215_6_S6_L002.fastq.tar</td>\n",
       "      <td>https://data.nemoarchive.org/biccn/grant/u01_l...</td>\n",
       "      <td>True</td>\n",
       "      <td>1</td>\n",
       "    </tr>\n",
       "    <tr>\n",
       "      <th>119</th>\n",
       "      <td>10X216-7-1</td>\n",
       "      <td>10X216_7_S15_L003.fastq.tar</td>\n",
       "      <td>https://data.nemoarchive.org/biccn/grant/u01_l...</td>\n",
       "      <td>True</td>\n",
       "      <td>1</td>\n",
       "    </tr>\n",
       "    <tr>\n",
       "      <th>120</th>\n",
       "      <td>10X216-7-1</td>\n",
       "      <td>10X216_7_S15_L004.fastq.tar</td>\n",
       "      <td>https://data.nemoarchive.org/biccn/grant/u01_l...</td>\n",
       "      <td>True</td>\n",
       "      <td>1</td>\n",
       "    </tr>\n",
       "  </tbody>\n",
       "</table>\n",
       "</div>"
      ],
      "text/plain": [
       "         sample                     filename  \\\n",
       "111  10X215-6-1   10X215_6_S6_L001.fastq.tar   \n",
       "112  10X215-6-1   10X215_6_S6_L002.fastq.tar   \n",
       "119  10X216-7-1  10X216_7_S15_L003.fastq.tar   \n",
       "120  10X216-7-1  10X216_7_S15_L004.fastq.tar   \n",
       "\n",
       "                                                  link  is_duplicate  \\\n",
       "111  https://data.nemoarchive.org/biccn/grant/u01_l...          True   \n",
       "112  https://data.nemoarchive.org/biccn/grant/u01_l...          True   \n",
       "119  https://data.nemoarchive.org/biccn/grant/u01_l...          True   \n",
       "120  https://data.nemoarchive.org/biccn/grant/u01_l...          True   \n",
       "\n",
       "     duplicate_number  \n",
       "111                 1  \n",
       "112                 1  \n",
       "119                 1  \n",
       "120                 1  "
      ]
     },
     "execution_count": 7,
     "metadata": {},
     "output_type": "execute_result"
    }
   ],
   "source": [
    "import pandas as pd\n",
    "\n",
    "df = pd.DataFrame(sample_list)\n",
    "df['is_duplicate'] = ((~df.duplicated(subset=['sample', 'filename'], keep='first')) & df.duplicated(subset=['sample', 'filename'], keep=False))\n",
    "df['duplicate_number'] = df.groupby(['sample', 'filename']).cumcount() + 1\n",
    "df.loc[df['is_duplicate'], 'sample'] = df['sample'] + '-' + df['duplicate_number'].astype(str)\n",
    "df[df['is_duplicate']]"
   ]
  },
  {
   "cell_type": "code",
   "execution_count": 8,
   "metadata": {},
   "outputs": [],
   "source": [
    "df_to_csv = df[['sample', 'filename', 'link']]\n",
    "df_to_csv.to_csv('sample_list.tsv', index=False, sep='\\t', header=False)"
   ]
  }
 ],
 "metadata": {
  "kernelspec": {
   "display_name": ".venv",
   "language": "python",
   "name": "python3"
  },
  "language_info": {
   "codemirror_mode": {
    "name": "ipython",
    "version": 3
   },
   "file_extension": ".py",
   "mimetype": "text/x-python",
   "name": "python",
   "nbconvert_exporter": "python",
   "pygments_lexer": "ipython3",
   "version": "3.10.12"
  }
 },
 "nbformat": 4,
 "nbformat_minor": 2
}
